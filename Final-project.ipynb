{
 "cells": [
  {
   "cell_type": "markdown",
   "metadata": {},
   "source": [
    "# 巨量資料分析與導論期末報告"
   ]
  },
  {
   "cell_type": "markdown",
   "metadata": {},
   "source": [
    "# 題目名稱: Stock Trend Prediction: Which is better?  \n",
    "#                 (Based on Machine Learning Methods)\n",
    "------------------------------"
   ]
  },
  {
   "cell_type": "markdown",
   "metadata": {},
   "source": [
    "# 組員 : 戴啟航、吳冠錡、許睿庭\n",
    "--------------------------"
   ]
  },
  {
   "cell_type": "markdown",
   "metadata": {},
   "source": [
    "## 動機 :\n",
    "\n",
    "> ### 隨著AI人工智慧越來越普及，利用機器學習或是深度學習的方式，來訓練模型，以達到預測或辨識的能力。\n",
    "> ### 這次想利用各種技術面指標來幫助我們預測明日股價，採用兩種不同概念的機器學習模型 \n",
    "> ### 1.   隨機森林\n",
    "> ### 2.   LSTM\n",
    ">\n",
    "> ### 去比較兩種模型哪種效果比較好，以及探討背後預測力較高的原因。"
   ]
  },
  {
   "cell_type": "markdown",
   "metadata": {},
   "source": [
    "---------------------------------------------------------\n",
    "## 計畫摘要\n",
    "\n",
    "> ### 1.深入研究LSTM跟Randforest的參數設定及計算方式\n",
    "> ### 2.挑選股票測試\n",
    "> ### 3.挑選技術面指標:KD、MACD、OBV、WILLR、ATR\n",
    "> ### 4.用兩種機器模型去訓練\n",
    "> ### 5.觀察預測結果是否如前面假設\n",
    "> ### 6.修正與改善\n",
    "\n",
    "---------------------------------------------------------"
   ]
  },
  {
   "cell_type": "markdown",
   "metadata": {},
   "source": [
    "---------------------------------------------------------\n",
    "## 資料來源\n",
    "\n",
    "> ### 1.樣本資料:TEJ台灣經濟新報-敬鵬(未調整股價(日))\n",
    "> ### 2.資料期間:2013~2018/6/25\n",
    "> ### 3.資料頻率:日頻\n",
    "> ### 4.選用方法:RF、LSTM、五種技術指標(KD、MACD、OBV、WILLR、ATR)\n",
    "\n",
    "---------------------------------------------------------"
   ]
  },
  {
   "cell_type": "markdown",
   "metadata": {},
   "source": [
    "------------------------------------------\n",
    "## 在DEMO之前，我們先來了解一下RF、LSTM模型的概念\n",
    "\n",
    "> ### 首先我們先介紹Rand Forest這個模型。\n",
    "> ### Rand Forest主要是運用決策樹的概念，而決策樹是一個解釋力很強的模型。\n",
    "> ### 舉例來說:有天阿錡和阿航在討論女生交往對象的條件，但是兩人意見不一致，因此直接去找他們的共同朋友阿睿問清楚。於是阿睿說:\"如果是我的標準，首先我想要找年薪破百的男生，最好年齡介於25~30歲，還有滿足這些條件後我還想要..........等等\"\n",
    "> ### 於是他們將條件列出來後做了決策樹\n",
    "> ### ![Alt text](https://i.imgur.com/jE3ienC.png/to/)\n",
    "\n",
    "> ### 在Rand Forest訓練過程中，決策樹會問一系列的問題像是年薪是否超過100萬 ，年齡是否大於30或是小於25歲的是非問題。而決策樹就會向上圖一樣從第一個問題開始根據資料的特徵將資料分割到不同邊。\n",
    "\n",
    "> ### ![Alt text](https://i.imgur.com/7S8EAb2.png/to/)\n",
    "> ### 這樣的分割的目的是為了最大的資訊增益(Information gain, 簡稱IG)。上式為我們獲得的資訊量會等於原本的資訊量加上分割後的資訊量(而分割後又分為左邊和右邊的資訊)。而Rand Forest在機器學習中像是用眾人投票的方式去選出一個最好的，我們需要創造一些決策樹來進行投票!\n",
    "\n",
    "> ### 雖然隨機森林中樹木的數量越多可以增加模型的效果，但是計算量相對也會增加，所以增加樹木的數量帶來的效果程度是遞減的，所以選擇一個合適的參數就可以了。\n",
    "---------------------------------------------------------"
   ]
  },
  {
   "cell_type": "markdown",
   "metadata": {},
   "source": [
    "> ### 接下來我們來了解一下LSTM背後的概念。\n",
    "> ### LSTM(長短期記憶神經網絡)神經網路屬於循環神經網路 (RNN) 的一種，特別適合處理和預測與時間序列相關的重要事件。LSTM是利用過去一段時間內某事件時間的特徵來預測未來一段時間內該事件的特徵。這是一種比較複雜的預測模型，和迴歸分析模型的預測不同，LSTM是依賴於事件發生的先後順序以及同樣大小的值改變順序後輸入模型產生的結果。\n",
    "\n",
    "> ### 舉例來說:我們可以根據過去2年victor高老師每週高血壓的數據推測下一周會出現高血壓的次數。同樣的道理根據過去兩年某股票的每天的股價數據推測之後一週的股價變化等等。\n",
    "\n",
    ">### 而下列這張圖，是將簡單循環網路(RNN)和LSTM進行比對\n",
    "![Alt text](https://i.imgur.com/GeO7j8t.png/to/)\n",
    "資料來源:https://deeplearning4j.org/cn/lstm\n",
    "\n",
    ">### 從圖中我們可以看到LSTM的記憶單元輸入並執行的過程中，LSTM的記憶單元在輸入轉換中給予加法和乘法不同的角色。兩張圖中央的加號其實就是LSTM的秘密。雖然看起來異常簡單，這一基本的改變能幫助LSTM在必須進行深度反向傳播時維持恆定的誤差。LSTM確定後續單元狀態的方式並非將當前狀態與新輸入相乘，而是將兩者相加，這正是LSTM的特別之處。\n",
    "\n",
    ">### 而且LSTM的模型有設計三道閥門。而閥門有3類：遺忘閥門（forget gate），輸入閥門（input gate）和輸出閥門（output gate）。這些閥門可以打開或關閉，用於將判斷模型網絡的記憶態（之前網絡的狀態）在該層輸出的結果是否達到閾值從而加入到當前該層的計算中。\n",
    "\n",
    "\n",
    ">### 那為甚麼需要設計遺忘門呢?\n",
    "\n",
    ">### 假如今天你是要分析文檔資料，在文檔的末尾時。假設每個文檔並沒有關聯，但是在傳統的模型上會認為是一起的。此時LSTM會是你解決此問題的好選擇!你可以透過閘門關閉來避免程式拿上一筆資料的記憶來分析下一筆資料。\n",
    "\n",
    ">### 我們來看看他的概念是怎麼運作，在下圖我們可以看到LSTM的運作方式\n",
    "\n",
    ">###  關於閥門有分為三類:遺忘閥門（forget gate），輸入閥門（input gate）和輸出閥門（output gate）。\n",
    ">###  ![Alt text](https://i.imgur.com/4bI98gE.png/to/)\n",
    "\n",
    ">### 如圖中所示，閥門節點利用sigmoid函數將網絡的記憶態作為輸入計算；如果輸出結果達到閾值則將該閥門輸出與當前層的的計算結果相乘作為下一層的輸入（PS：這裏的相乘是在指矩陣中的逐元素相乘）；如果沒有達到閾值則將該輸出結果遺忘掉。每一層包括閥門節點的權重都會在每一次模型反向傳播訓練過程中更新。\n",
    "\n",
    ">### 此方法的優點是通常前饋網絡只能將一個輸入映射至一個輸出，而循環網絡則可以向上圖那樣將一個輸入映射至出多個輸出或是進行多對多或多對一的映射。\n",
    "\n",
    ">### 在後續DEMO中，我們採用股票過去的歷史股價，套用LSTM模型去預測下一個交易日的收盤價。\n",
    "\n",
    "\n",
    "\n",
    "> # 開始DEMO囉!!"
   ]
  },
  {
   "cell_type": "markdown",
   "metadata": {
    "collapsed": true
   },
   "source": [
    "# Random Forest"
   ]
  },
  {
   "cell_type": "code",
   "execution_count": 10,
   "metadata": {
    "collapsed": true
   },
   "outputs": [],
   "source": [
    "import requests\n",
    "import json\n",
    "import pandas as pd\n",
    "from IPython.core.interactiveshell import InteractiveShell\n",
    "InteractiveShell.ast_node_interactivity = \"all\"\n",
    "import matplotlib.pyplot as plt\n",
    "from sklearn.model_selection import cross_val_score"
   ]
  },
  {
   "cell_type": "markdown",
   "metadata": {
    "collapsed": true
   },
   "source": [
    "##  取得今日敬鵬股價"
   ]
  },
  {
   "cell_type": "code",
   "execution_count": 11,
   "metadata": {
    "collapsed": true
   },
   "outputs": [],
   "source": [
    "def get_today_price(stock, date):\n",
    "    url='http://www.twse.com.tw/exchangeReport/STOCK_DAY'\n",
    "    params = {}\n",
    "    params['stockNo'] = stock\n",
    "    params['date'] = date\n",
    "    params['response'] = json\n",
    "    res = requests.get(url, params=params)\n",
    "    s = json.loads(res.text)\n",
    "    rawData=pd.DataFrame(s['data'],columns=['日期', '成交股數', '成交金額', '開盤價','最高價','最低價','收盤價','漲跌價差','成交筆數'])\n",
    "    return rawData"
   ]
  },
  {
   "cell_type": "code",
   "execution_count": 12,
   "metadata": {},
   "outputs": [
    {
     "data": {
      "text/html": [
       "<div>\n",
       "<style>\n",
       "    .dataframe thead tr:only-child th {\n",
       "        text-align: right;\n",
       "    }\n",
       "\n",
       "    .dataframe thead th {\n",
       "        text-align: left;\n",
       "    }\n",
       "\n",
       "    .dataframe tbody tr th {\n",
       "        vertical-align: top;\n",
       "    }\n",
       "</style>\n",
       "<table border=\"1\" class=\"dataframe\">\n",
       "  <thead>\n",
       "    <tr style=\"text-align: right;\">\n",
       "      <th></th>\n",
       "      <th>日期</th>\n",
       "      <th>成交股數</th>\n",
       "      <th>成交金額</th>\n",
       "      <th>開盤價</th>\n",
       "      <th>最高價</th>\n",
       "      <th>最低價</th>\n",
       "      <th>收盤價</th>\n",
       "      <th>漲跌價差</th>\n",
       "      <th>成交筆數</th>\n",
       "    </tr>\n",
       "  </thead>\n",
       "  <tbody>\n",
       "    <tr>\n",
       "      <th>17</th>\n",
       "      <td>107/06/27</td>\n",
       "      <td>726,787</td>\n",
       "      <td>28,131,949</td>\n",
       "      <td>38.60</td>\n",
       "      <td>38.90</td>\n",
       "      <td>38.50</td>\n",
       "      <td>38.55</td>\n",
       "      <td>0.00</td>\n",
       "      <td>421</td>\n",
       "    </tr>\n",
       "  </tbody>\n",
       "</table>\n",
       "</div>"
      ],
      "text/plain": [
       "           日期     成交股數        成交金額    開盤價    最高價    最低價    收盤價   漲跌價差 成交筆數\n",
       "17  107/06/27  726,787  28,131,949  38.60  38.90  38.50  38.55   0.00  421"
      ]
     },
     "execution_count": 12,
     "metadata": {},
     "output_type": "execute_result"
    }
   ],
   "source": [
    "get_today_price(2355, 20180626)[-1:]"
   ]
  },
  {
   "cell_type": "code",
   "execution_count": 13,
   "metadata": {},
   "outputs": [
    {
     "data": {
      "text/html": [
       "<div>\n",
       "<style>\n",
       "    .dataframe thead tr:only-child th {\n",
       "        text-align: right;\n",
       "    }\n",
       "\n",
       "    .dataframe thead th {\n",
       "        text-align: left;\n",
       "    }\n",
       "\n",
       "    .dataframe tbody tr th {\n",
       "        vertical-align: top;\n",
       "    }\n",
       "</style>\n",
       "<table border=\"1\" class=\"dataframe\">\n",
       "  <thead>\n",
       "    <tr style=\"text-align: right;\">\n",
       "      <th></th>\n",
       "      <th>code</th>\n",
       "      <th>date</th>\n",
       "      <th>open</th>\n",
       "      <th>close</th>\n",
       "      <th>high</th>\n",
       "      <th>low</th>\n",
       "      <th>volume</th>\n",
       "    </tr>\n",
       "  </thead>\n",
       "  <tbody>\n",
       "    <tr>\n",
       "      <th>0</th>\n",
       "      <td>2355</td>\n",
       "      <td>2013-01-02</td>\n",
       "      <td>32</td>\n",
       "      <td>32</td>\n",
       "      <td>32</td>\n",
       "      <td>31</td>\n",
       "      <td>1595</td>\n",
       "    </tr>\n",
       "    <tr>\n",
       "      <th>1</th>\n",
       "      <td>2355</td>\n",
       "      <td>2013-01-03</td>\n",
       "      <td>32</td>\n",
       "      <td>32</td>\n",
       "      <td>32</td>\n",
       "      <td>32</td>\n",
       "      <td>1552</td>\n",
       "    </tr>\n",
       "    <tr>\n",
       "      <th>2</th>\n",
       "      <td>2355</td>\n",
       "      <td>2013-01-04</td>\n",
       "      <td>32</td>\n",
       "      <td>32</td>\n",
       "      <td>32</td>\n",
       "      <td>32</td>\n",
       "      <td>1324</td>\n",
       "    </tr>\n",
       "    <tr>\n",
       "      <th>3</th>\n",
       "      <td>2355</td>\n",
       "      <td>2013-01-07</td>\n",
       "      <td>32</td>\n",
       "      <td>32</td>\n",
       "      <td>32</td>\n",
       "      <td>32</td>\n",
       "      <td>676</td>\n",
       "    </tr>\n",
       "    <tr>\n",
       "      <th>4</th>\n",
       "      <td>2355</td>\n",
       "      <td>2013-01-08</td>\n",
       "      <td>32</td>\n",
       "      <td>31</td>\n",
       "      <td>32</td>\n",
       "      <td>31</td>\n",
       "      <td>1006</td>\n",
       "    </tr>\n",
       "  </tbody>\n",
       "</table>\n",
       "</div>"
      ],
      "text/plain": [
       "   code       date  open  close  high  low  volume\n",
       "0  2355 2013-01-02    32     32    32   31    1595\n",
       "1  2355 2013-01-03    32     32    32   32    1552\n",
       "2  2355 2013-01-04    32     32    32   32    1324\n",
       "3  2355 2013-01-07    32     32    32   32     676\n",
       "4  2355 2013-01-08    32     31    32   31    1006"
      ]
     },
     "execution_count": 13,
     "metadata": {},
     "output_type": "execute_result"
    }
   ],
   "source": [
    "import pandas as pd\n",
    "df = pd.read_excel('bird.xlsx')\n",
    "df.columns=['code','date','open','close','high','low','volume']\n",
    "df.head()"
   ]
  },
  {
   "cell_type": "code",
   "execution_count": 14,
   "metadata": {
    "collapsed": true
   },
   "outputs": [],
   "source": [
    "ship= {\n",
    "    'close':df.close.dropna().astype(float),\n",
    "    'open':df.open.dropna().astype(float),\n",
    "    'high':df.high.dropna().astype(float),\n",
    "    'low':df.low.dropna().astype(float),\n",
    "    'volume': df.volume.dropna().astype(float)}"
   ]
  },
  {
   "cell_type": "markdown",
   "metadata": {},
   "source": [
    "##  計算技術指標(KD/MACD/OBV/WILLR/ATR)"
   ]
  },
  {
   "cell_type": "code",
   "execution_count": 15,
   "metadata": {
    "collapsed": true
   },
   "outputs": [],
   "source": [
    "import talib\n",
    "def talib2df(talib_output):\n",
    "    if type(talib_output) == list:\n",
    "        ret = pd.DataFrame(talib_output).transpose()\n",
    "    else:\n",
    "        ret = pd.Series(talib_output)\n",
    "    ret.index = df['close'].index\n",
    "    return ret;\n",
    "\n",
    "#計算KD#\n",
    "KD = talib2df(talib.abstract.STOCH(ship, fastk_period=9))\n",
    "#計算MACD#\n",
    "MACD = talib2df(talib.abstract.MACD(ship))\n",
    "#計算OBV#\n",
    "OBV = talib2df(talib.abstract.OBV(ship))\n",
    "#計算威廉指數#\n",
    "WILLR = talib2df(talib.abstract.WILLR(ship))\n",
    "#ATR 計算#\n",
    "ATR = talib2df(talib.abstract.ATR(ship))\n",
    "#alldata"
   ]
  },
  {
   "cell_type": "code",
   "execution_count": 16,
   "metadata": {
    "collapsed": true
   },
   "outputs": [],
   "source": [
    "ship=pd.DataFrame(ship)\n",
    "ship= pd.concat([df,KD,MACD,OBV,WILLR,ATR], axis=1)\n",
    "ship.columns=['code','date','open','close','high','low','volume','k','d','dif12','dif26','macd','obv','willr','atr']"
   ]
  },
  {
   "cell_type": "markdown",
   "metadata": {},
   "source": [
    "## 機器學習預測 Randomforest"
   ]
  },
  {
   "cell_type": "code",
   "execution_count": 18,
   "metadata": {
    "collapsed": true
   },
   "outputs": [],
   "source": [
    "import numpy as np\n",
    "import pandas as pd\n",
    "from sklearn import model_selection, ensemble, preprocessing, metrics"
   ]
  },
  {
   "cell_type": "code",
   "execution_count": 19,
   "metadata": {},
   "outputs": [
    {
     "data": {
      "text/plain": [
       "0        NaN\n",
       "1       32.0\n",
       "2       32.0\n",
       "3       32.0\n",
       "4       32.0\n",
       "5       31.0\n",
       "6       32.0\n",
       "7       31.0\n",
       "8       31.0\n",
       "9       31.0\n",
       "10      31.0\n",
       "11      31.0\n",
       "12      30.0\n",
       "13      30.0\n",
       "14      30.0\n",
       "15      31.0\n",
       "16      31.0\n",
       "17      31.0\n",
       "18      30.0\n",
       "19      30.0\n",
       "20      31.0\n",
       "21      31.0\n",
       "22      31.0\n",
       "23      31.0\n",
       "24      32.0\n",
       "25      33.0\n",
       "26      33.0\n",
       "27      33.0\n",
       "28      33.0\n",
       "29      33.0\n",
       "        ... \n",
       "1312    41.0\n",
       "1313    40.0\n",
       "1314    40.0\n",
       "1315    39.0\n",
       "1316    40.0\n",
       "1317    39.0\n",
       "1318    40.0\n",
       "1319    40.0\n",
       "1320    40.0\n",
       "1321    40.0\n",
       "1322    40.0\n",
       "1323    41.0\n",
       "1324    41.0\n",
       "1325    40.0\n",
       "1326    40.0\n",
       "1327    40.0\n",
       "1328    40.0\n",
       "1329    41.0\n",
       "1330    43.0\n",
       "1331    42.0\n",
       "1332    41.0\n",
       "1333    40.0\n",
       "1334    40.0\n",
       "1335    40.0\n",
       "1336    40.0\n",
       "1337    41.0\n",
       "1338    40.0\n",
       "1339    40.0\n",
       "1340    39.0\n",
       "1341    39.0\n",
       "Name: close, Length: 1342, dtype: float64"
      ]
     },
     "execution_count": 19,
     "metadata": {},
     "output_type": "execute_result"
    },
    {
     "data": {
      "text/plain": [
       "0        NaN\n",
       "1        NaN\n",
       "2       32.0\n",
       "3       32.0\n",
       "4       32.0\n",
       "5       32.0\n",
       "6       31.0\n",
       "7       32.0\n",
       "8       31.0\n",
       "9       31.0\n",
       "10      31.0\n",
       "11      31.0\n",
       "12      31.0\n",
       "13      30.0\n",
       "14      30.0\n",
       "15      30.0\n",
       "16      31.0\n",
       "17      31.0\n",
       "18      31.0\n",
       "19      30.0\n",
       "20      30.0\n",
       "21      31.0\n",
       "22      31.0\n",
       "23      31.0\n",
       "24      31.0\n",
       "25      32.0\n",
       "26      33.0\n",
       "27      33.0\n",
       "28      33.0\n",
       "29      33.0\n",
       "        ... \n",
       "1312    39.0\n",
       "1313    41.0\n",
       "1314    40.0\n",
       "1315    40.0\n",
       "1316    39.0\n",
       "1317    40.0\n",
       "1318    39.0\n",
       "1319    40.0\n",
       "1320    40.0\n",
       "1321    40.0\n",
       "1322    40.0\n",
       "1323    40.0\n",
       "1324    41.0\n",
       "1325    41.0\n",
       "1326    40.0\n",
       "1327    40.0\n",
       "1328    40.0\n",
       "1329    40.0\n",
       "1330    41.0\n",
       "1331    43.0\n",
       "1332    42.0\n",
       "1333    41.0\n",
       "1334    40.0\n",
       "1335    40.0\n",
       "1336    40.0\n",
       "1337    40.0\n",
       "1338    41.0\n",
       "1339    40.0\n",
       "1340    40.0\n",
       "1341    39.0\n",
       "Name: close, Length: 1342, dtype: float64"
      ]
     },
     "execution_count": 19,
     "metadata": {},
     "output_type": "execute_result"
    },
    {
     "data": {
      "text/plain": [
       "0        NaN\n",
       "1        NaN\n",
       "2        NaN\n",
       "3       32.0\n",
       "4       32.0\n",
       "5       32.0\n",
       "6       32.0\n",
       "7       31.0\n",
       "8       32.0\n",
       "9       31.0\n",
       "10      31.0\n",
       "11      31.0\n",
       "12      31.0\n",
       "13      31.0\n",
       "14      30.0\n",
       "15      30.0\n",
       "16      30.0\n",
       "17      31.0\n",
       "18      31.0\n",
       "19      31.0\n",
       "20      30.0\n",
       "21      30.0\n",
       "22      31.0\n",
       "23      31.0\n",
       "24      31.0\n",
       "25      31.0\n",
       "26      32.0\n",
       "27      33.0\n",
       "28      33.0\n",
       "29      33.0\n",
       "        ... \n",
       "1312    39.0\n",
       "1313    39.0\n",
       "1314    41.0\n",
       "1315    40.0\n",
       "1316    40.0\n",
       "1317    39.0\n",
       "1318    40.0\n",
       "1319    39.0\n",
       "1320    40.0\n",
       "1321    40.0\n",
       "1322    40.0\n",
       "1323    40.0\n",
       "1324    40.0\n",
       "1325    41.0\n",
       "1326    41.0\n",
       "1327    40.0\n",
       "1328    40.0\n",
       "1329    40.0\n",
       "1330    40.0\n",
       "1331    41.0\n",
       "1332    43.0\n",
       "1333    42.0\n",
       "1334    41.0\n",
       "1335    40.0\n",
       "1336    40.0\n",
       "1337    40.0\n",
       "1338    40.0\n",
       "1339    41.0\n",
       "1340    40.0\n",
       "1341    40.0\n",
       "Name: close, Length: 1342, dtype: float64"
      ]
     },
     "execution_count": 19,
     "metadata": {},
     "output_type": "execute_result"
    },
    {
     "data": {
      "text/plain": [
       "0        NaN\n",
       "1        NaN\n",
       "2        NaN\n",
       "3        NaN\n",
       "4       32.0\n",
       "5       32.0\n",
       "6       32.0\n",
       "7       32.0\n",
       "8       31.0\n",
       "9       32.0\n",
       "10      31.0\n",
       "11      31.0\n",
       "12      31.0\n",
       "13      31.0\n",
       "14      31.0\n",
       "15      30.0\n",
       "16      30.0\n",
       "17      30.0\n",
       "18      31.0\n",
       "19      31.0\n",
       "20      31.0\n",
       "21      30.0\n",
       "22      30.0\n",
       "23      31.0\n",
       "24      31.0\n",
       "25      31.0\n",
       "26      31.0\n",
       "27      32.0\n",
       "28      33.0\n",
       "29      33.0\n",
       "        ... \n",
       "1312    39.0\n",
       "1313    39.0\n",
       "1314    39.0\n",
       "1315    41.0\n",
       "1316    40.0\n",
       "1317    40.0\n",
       "1318    39.0\n",
       "1319    40.0\n",
       "1320    39.0\n",
       "1321    40.0\n",
       "1322    40.0\n",
       "1323    40.0\n",
       "1324    40.0\n",
       "1325    40.0\n",
       "1326    41.0\n",
       "1327    41.0\n",
       "1328    40.0\n",
       "1329    40.0\n",
       "1330    40.0\n",
       "1331    40.0\n",
       "1332    41.0\n",
       "1333    43.0\n",
       "1334    42.0\n",
       "1335    41.0\n",
       "1336    40.0\n",
       "1337    40.0\n",
       "1338    40.0\n",
       "1339    40.0\n",
       "1340    41.0\n",
       "1341    40.0\n",
       "Name: close, Length: 1342, dtype: float64"
      ]
     },
     "execution_count": 19,
     "metadata": {},
     "output_type": "execute_result"
    },
    {
     "data": {
      "text/plain": [
       "0        NaN\n",
       "1        NaN\n",
       "2        NaN\n",
       "3        NaN\n",
       "4        NaN\n",
       "5       32.0\n",
       "6       32.0\n",
       "7       32.0\n",
       "8       32.0\n",
       "9       31.0\n",
       "10      32.0\n",
       "11      31.0\n",
       "12      31.0\n",
       "13      31.0\n",
       "14      31.0\n",
       "15      31.0\n",
       "16      30.0\n",
       "17      30.0\n",
       "18      30.0\n",
       "19      31.0\n",
       "20      31.0\n",
       "21      31.0\n",
       "22      30.0\n",
       "23      30.0\n",
       "24      31.0\n",
       "25      31.0\n",
       "26      31.0\n",
       "27      31.0\n",
       "28      32.0\n",
       "29      33.0\n",
       "        ... \n",
       "1312    39.0\n",
       "1313    39.0\n",
       "1314    39.0\n",
       "1315    39.0\n",
       "1316    41.0\n",
       "1317    40.0\n",
       "1318    40.0\n",
       "1319    39.0\n",
       "1320    40.0\n",
       "1321    39.0\n",
       "1322    40.0\n",
       "1323    40.0\n",
       "1324    40.0\n",
       "1325    40.0\n",
       "1326    40.0\n",
       "1327    41.0\n",
       "1328    41.0\n",
       "1329    40.0\n",
       "1330    40.0\n",
       "1331    40.0\n",
       "1332    40.0\n",
       "1333    41.0\n",
       "1334    43.0\n",
       "1335    42.0\n",
       "1336    41.0\n",
       "1337    40.0\n",
       "1338    40.0\n",
       "1339    40.0\n",
       "1340    40.0\n",
       "1341    41.0\n",
       "Name: close, Length: 1342, dtype: float64"
      ]
     },
     "execution_count": 19,
     "metadata": {},
     "output_type": "execute_result"
    }
   ],
   "source": [
    "ship.close.shift(1)\n",
    "ship.close.shift(2)\n",
    "ship.close.shift(3)\n",
    "ship.close.shift(4)\n",
    "ship.close.shift(5)\n",
    "ship=pd.concat([ship,ship.close.shift(1),ship.close.shift(2),ship.close.shift(3),ship.close.shift(4),ship.close.shift(5)],axis=1)\n",
    "ship.columns=['code','date','open','close','high','low','volume','k','d','dif12','dif26','macd','obv','willr','atr',\n",
    "            'close_s1','close_s2','close_s3','close_s4','close_s5']\n",
    "#下五天報酬報酬\n",
    "ship['label']=( (ship.close.shift(-5)/ship.close)-1)>0 \n",
    "\n",
    "# drop 5天\n",
    "SHIP=ship\n",
    "SHIP['label']=SHIP['label'].drop(SHIP['label'].tail(5).index)"
   ]
  },
  {
   "cell_type": "markdown",
   "metadata": {},
   "source": [
    "# 預測股價漲跌"
   ]
  },
  {
   "cell_type": "code",
   "execution_count": 20,
   "metadata": {},
   "outputs": [
    {
     "name": "stdout",
     "output_type": "stream",
     "text": [
      "AUC值: 0.7969348659003831\n"
     ]
    }
   ],
   "source": [
    "SHIP = SHIP.dropna(axis=0)\n",
    "ship_X = SHIP.drop(['label','code','date'],axis=1)\n",
    "ship_y = SHIP['label']\n",
    "label_encoder = preprocessing.LabelEncoder()\n",
    "ship_y  = label_encoder.fit_transform(SHIP[\"label\"])\n",
    "\n",
    "train_X, test_X, train_y, test_y = model_selection.train_test_split(ship_X, ship_y, test_size = 0.2)\n",
    "# 建立 random forest 模型\n",
    "forest =  ensemble.RandomForestClassifier(n_estimators = 200)\n",
    "forest_fit = forest.fit(train_X, train_y)\n",
    "\n",
    "# 預測\n",
    "test_y_predicted = forest.predict(test_X)\n",
    "#test_y_predicted\n",
    "# 績效\n",
    "accuracy = metrics.accuracy_score(test_y, test_y_predicted)\n",
    "print('AUC值: {}'.format(accuracy))"
   ]
  },
  {
   "cell_type": "markdown",
   "metadata": {},
   "source": [
    "## 計算出每一個參數的重要性"
   ]
  },
  {
   "cell_type": "code",
   "execution_count": 21,
   "metadata": {},
   "outputs": [
    {
     "name": "stdout",
     "output_type": "stream",
     "text": [
      "open = 0.0323580548105\n",
      "close = 0.0438890953467\n",
      "high = 0.0366961807885\n",
      "low = 0.0372481438605\n",
      "volume = 0.0647971402159\n",
      "k = 0.052481709531\n",
      "d = 0.0623467093336\n",
      "dif26 = 0.0843554911431\n",
      "macd = 0.0870683763009\n",
      "obv = 0.0878579653658\n",
      "willr = 0.107710265293\n",
      "atr = 0.0429455130314\n",
      "close_s1 = 0.0906360592934\n",
      "close_s2 = 0.0299078135787\n",
      "close_s3 = 0.031838903941\n",
      "close_s4 = 0.0351580703495\n",
      "close_s5 = 0.0354920055464\n",
      "label = 0.0372125022701\n"
     ]
    },
    {
     "data": {
      "text/plain": [
       "Text(0.5,1,'Feature Importances')"
      ]
     },
     "execution_count": 21,
     "metadata": {},
     "output_type": "execute_result"
    },
    {
     "data": {
      "text/plain": [
       "<Container object of 18 artists>"
      ]
     },
     "execution_count": 21,
     "metadata": {},
     "output_type": "execute_result"
    },
    {
     "data": {
      "text/plain": [
       "([<matplotlib.axis.YTick at 0x26e364db668>,\n",
       "  <matplotlib.axis.YTick at 0x26e364db438>,\n",
       "  <matplotlib.axis.YTick at 0x26e364db4a8>,\n",
       "  <matplotlib.axis.YTick at 0x26e368439b0>,\n",
       "  <matplotlib.axis.YTick at 0x26e36850048>,\n",
       "  <matplotlib.axis.YTick at 0x26e368506a0>,\n",
       "  <matplotlib.axis.YTick at 0x26e36850cf8>,\n",
       "  <matplotlib.axis.YTick at 0x26e368563c8>,\n",
       "  <matplotlib.axis.YTick at 0x26e36856a58>,\n",
       "  <matplotlib.axis.YTick at 0x26e3685d128>,\n",
       "  <matplotlib.axis.YTick at 0x26e3685d7b8>,\n",
       "  <matplotlib.axis.YTick at 0x26e3685de48>,\n",
       "  <matplotlib.axis.YTick at 0x26e368624e0>,\n",
       "  <matplotlib.axis.YTick at 0x26e36862b70>,\n",
       "  <matplotlib.axis.YTick at 0x26e36868240>,\n",
       "  <matplotlib.axis.YTick at 0x26e368688d0>,\n",
       "  <matplotlib.axis.YTick at 0x26e36868f60>,\n",
       "  <matplotlib.axis.YTick at 0x26e3686e630>],\n",
       " <a list of 18 Text yticklabel objects>)"
      ]
     },
     "execution_count": 21,
     "metadata": {},
     "output_type": "execute_result"
    },
    {
     "data": {
      "text/plain": [
       "Text(0.5,0,'Relative Importance')"
      ]
     },
     "execution_count": 21,
     "metadata": {},
     "output_type": "execute_result"
    },
    {
     "data": {
      "image/png": "[encoded data removed]",
      "text/plain": [
       "<matplotlib.figure.Figure at 0x26e36509f60>"
      ]
     },
     "metadata": {},
     "output_type": "display_data"
    }
   ],
   "source": [
    "for name, importance in zip(SHIP.drop({'dif12'},axis=1).columns[2:24],forest.feature_importances_):\n",
    "        print(name, \"=\", importance)\n",
    "features = SHIP.drop({'dif12'},axis=1).columns[2:24]\n",
    "importances = forest.feature_importances_\n",
    "indices = np.argsort(importances)\n",
    "#畫圖\n",
    "plt.title('Feature Importances')\n",
    "plt.barh(range(len(indices)), importances[indices], color='b', align='center')\n",
    "plt.yticks(range(len(indices)), features[indices])\n",
    "plt.xlabel('Relative Importance')\n",
    "plt.show()"
   ]
  },
  {
   "cell_type": "markdown",
   "metadata": {},
   "source": [
    "#  預測股價價值(Randomforest)"
   ]
  },
  {
   "cell_type": "code",
   "execution_count": 22,
   "metadata": {
    "collapsed": true
   },
   "outputs": [],
   "source": [
    "ship2=ship"
   ]
  },
  {
   "cell_type": "code",
   "execution_count": 23,
   "metadata": {
    "collapsed": true
   },
   "outputs": [],
   "source": [
    "ship2['label']=ship.close.shift(-5)\n",
    "ship2 = ship2.dropna(axis=0)\n",
    "ship2 = ship2.dropna(axis=0)\n",
    "ship_X = ship2.drop(['label','code','date'],axis=1)\n",
    "ship_y = ship2['label']\n",
    "train_X, test_X, train_y, test_y = model_selection.train_test_split(ship_X, ship_y, test_size = 0.1)"
   ]
  },
  {
   "cell_type": "markdown",
   "metadata": {},
   "source": [
    "# 建立 random forest 模型"
   ]
  },
  {
   "cell_type": "code",
   "execution_count": 24,
   "metadata": {},
   "outputs": [
    {
     "name": "stdout",
     "output_type": "stream",
     "text": [
      "AUC值: 0.37404580152671757\n"
     ]
    }
   ],
   "source": [
    "forest=ensemble.RandomForestClassifier(n_estimators = 300,criterion='entropy')\n",
    "forest_fit=forest.fit(train_X, train_y.astype('int'))\n",
    "# 預測\n",
    "test_y_predicted = forest.predict(test_X)\n",
    "#test_y_predicted\n",
    "accuracy = metrics.accuracy_score(test_y.astype('int'), test_y_predicted)\n",
    "\n",
    "\n",
    "#print(auc)\n",
    "print('AUC值: {}'.format(accuracy))"
   ]
  },
  {
   "cell_type": "code",
   "execution_count": 25,
   "metadata": {},
   "outputs": [
    {
     "name": "stdout",
     "output_type": "stream",
     "text": [
      "open = 0.0712576858036\n",
      "close = 0.102296127294\n",
      "high = 0.0832305152276\n",
      "low = 0.0835861533399\n",
      "volume = 0.0410360597036\n",
      "k = 0.0348699209515\n",
      "d = 0.04250626144\n",
      "dif26 = 0.0548427951657\n",
      "macd = 0.0579997228837\n",
      "obv = 0.0487694847913\n",
      "willr = 0.0608391813287\n",
      "atr = 0.0303753833361\n",
      "close_s1 = 0.0645412933112\n",
      "close_s2 = 0.0693458003512\n",
      "close_s3 = 0.0464943324759\n",
      "close_s4 = 0.0375463545371\n",
      "close_s5 = 0.034589292134\n",
      "label = 0.0358736359245\n"
     ]
    },
    {
     "data": {
      "text/plain": [
       "<matplotlib.figure.Figure at 0x26e368eb048>"
      ]
     },
     "execution_count": 25,
     "metadata": {},
     "output_type": "execute_result"
    },
    {
     "data": {
      "text/plain": [
       "Text(0.5,1,'Feature Importances')"
      ]
     },
     "execution_count": 25,
     "metadata": {},
     "output_type": "execute_result"
    },
    {
     "data": {
      "text/plain": [
       "<Container object of 18 artists>"
      ]
     },
     "execution_count": 25,
     "metadata": {},
     "output_type": "execute_result"
    },
    {
     "data": {
      "text/plain": [
       "([<matplotlib.axis.YTick at 0x26e36513ac8>,\n",
       "  <matplotlib.axis.YTick at 0x26e36513f28>,\n",
       "  <matplotlib.axis.YTick at 0x26e3650a668>,\n",
       "  <matplotlib.axis.YTick at 0x26e3692dd68>,\n",
       "  <matplotlib.axis.YTick at 0x26e36933390>,\n",
       "  <matplotlib.axis.YTick at 0x26e369339e8>,\n",
       "  <matplotlib.axis.YTick at 0x26e36939080>,\n",
       "  <matplotlib.axis.YTick at 0x26e369396d8>,\n",
       "  <matplotlib.axis.YTick at 0x26e36939d68>,\n",
       "  <matplotlib.axis.YTick at 0x26e3693f438>,\n",
       "  <matplotlib.axis.YTick at 0x26e3693fac8>,\n",
       "  <matplotlib.axis.YTick at 0x26e36946198>,\n",
       "  <matplotlib.axis.YTick at 0x26e36946828>,\n",
       "  <matplotlib.axis.YTick at 0x26e36946eb8>,\n",
       "  <matplotlib.axis.YTick at 0x26e3694a588>,\n",
       "  <matplotlib.axis.YTick at 0x26e3694ac18>,\n",
       "  <matplotlib.axis.YTick at 0x26e369522e8>,\n",
       "  <matplotlib.axis.YTick at 0x26e36952978>],\n",
       " <a list of 18 Text yticklabel objects>)"
      ]
     },
     "execution_count": 25,
     "metadata": {},
     "output_type": "execute_result"
    },
    {
     "data": {
      "text/plain": [
       "Text(0.5,0,'Relative Importance')"
      ]
     },
     "execution_count": 25,
     "metadata": {},
     "output_type": "execute_result"
    },
    {
     "data": {
      "image/png": "[encoded data removed]",
      "text/plain": [
       "<matplotlib.figure.Figure at 0x26e368eb048>"
      ]
     },
     "metadata": {},
     "output_type": "display_data"
    }
   ],
   "source": [
    "for name, importance in zip(ship2.drop({'dif12'},axis=1).columns[2:24],forest.feature_importances_):\n",
    "        print(name, \"=\", importance)\n",
    "features = ship2.drop({'dif12'},axis=1).columns[2:24]\n",
    "importances = forest.feature_importances_\n",
    "indices = np.argsort(importances)\n",
    "\n",
    "plt.figure(figsize=(16,8),dpi = 200)\n",
    "plt.title('Feature Importances')\n",
    "plt.barh(range(len(indices)), importances[indices], color='b', align='center')\n",
    "plt.yticks(range(len(indices)), features[indices])\n",
    "plt.xlabel('Relative Importance')\n",
    "plt.show()"
   ]
  },
  {
   "cell_type": "code",
   "execution_count": 26,
   "metadata": {
    "collapsed": true
   },
   "outputs": [],
   "source": [
    "df1 = pd.DataFrame([])\n",
    "df1['test_y'] = test_y\n",
    "df1['predicted'] = test_y_predicted\n",
    "df1.sort_index(inplace= True)"
   ]
  },
  {
   "cell_type": "markdown",
   "metadata": {},
   "source": [
    "# 畫圖"
   ]
  },
  {
   "cell_type": "code",
   "execution_count": 27,
   "metadata": {
    "scrolled": true
   },
   "outputs": [
    {
     "data": {
      "text/plain": [
       "<matplotlib.figure.Figure at 0x26e364ed240>"
      ]
     },
     "execution_count": 27,
     "metadata": {},
     "output_type": "execute_result"
    },
    {
     "data": {
      "text/plain": [
       "[<matplotlib.lines.Line2D at 0x26e3dbca438>]"
      ]
     },
     "execution_count": 27,
     "metadata": {},
     "output_type": "execute_result"
    },
    {
     "data": {
      "text/plain": [
       "[<matplotlib.lines.Line2D at 0x26e3dbca630>]"
      ]
     },
     "execution_count": 27,
     "metadata": {},
     "output_type": "execute_result"
    },
    {
     "data": {
      "text/plain": [
       "<matplotlib.legend.Legend at 0x26e3dbcaa58>"
      ]
     },
     "execution_count": 27,
     "metadata": {},
     "output_type": "execute_result"
    },
    {
     "data": {
      "image/png": "[encoded data removed]",
      "text/plain": [
       "<matplotlib.figure.Figure at 0x26e364ed240>"
      ]
     },
     "metadata": {},
     "output_type": "display_data"
    }
   ],
   "source": [
    "import matplotlib.pyplot as plt\n",
    "%matplotlib inline  \n",
    "plt.figure(figsize=(16,8),dpi = 200)\n",
    "plt.plot(df1['predicted'],color='red', label='Prediction')\n",
    "plt.plot(df1[\"test_y\"],color='blue', label='Answer')\n",
    "plt.legend(loc='best')\n",
    "plt.show()"
   ]
  },
  {
   "cell_type": "markdown",
   "metadata": {},
   "source": [
    "## 接下來我們來看看LSTM測試是否會比RF準確!"
   ]
  },
  {
   "cell_type": "code",
   "execution_count": 1,
   "metadata": {
    "collapsed": true
   },
   "outputs": [],
   "source": [
    "from __future__ import print_function\n",
    "\n",
    "import numpy as np\n",
    "import pandas as pd\n",
    "import talib as ta\n",
    "import pandas_datareader as data\n",
    "import pandas_datareader.data as web\n",
    "import datetime\n",
    "\n",
    "from sklearn.linear_model import LinearRegression\n",
    "from sklearn.linear_model import Ridge\n",
    "from sklearn.model_selection import cross_val_score\n",
    "from sklearn.model_selection import train_test_split\n",
    "from sklearn.naive_bayes import GaussianNB\n",
    "from sklearn.pipeline import make_pipeline\n",
    "from sklearn.preprocessing import StandardScaler\n",
    "from sklearn.tree import DecisionTreeRegressor\n",
    "import matplotlib.pyplot as plt\n",
    "%matplotlib inline"
   ]
  },
  {
   "cell_type": "markdown",
   "metadata": {},
   "source": [
    "## 匯入資料"
   ]
  },
  {
   "cell_type": "code",
   "execution_count": 2,
   "metadata": {},
   "outputs": [
    {
     "data": {
      "text/html": [
       "<div>\n",
       "<style>\n",
       "    .dataframe thead tr:only-child th {\n",
       "        text-align: right;\n",
       "    }\n",
       "\n",
       "    .dataframe thead th {\n",
       "        text-align: left;\n",
       "    }\n",
       "\n",
       "    .dataframe tbody tr th {\n",
       "        vertical-align: top;\n",
       "    }\n",
       "</style>\n",
       "<table border=\"1\" class=\"dataframe\">\n",
       "  <thead>\n",
       "    <tr style=\"text-align: right;\">\n",
       "      <th></th>\n",
       "      <th>open</th>\n",
       "      <th>low</th>\n",
       "      <th>high</th>\n",
       "      <th>close</th>\n",
       "      <th>volume</th>\n",
       "    </tr>\n",
       "    <tr>\n",
       "      <th>date</th>\n",
       "      <th></th>\n",
       "      <th></th>\n",
       "      <th></th>\n",
       "      <th></th>\n",
       "      <th></th>\n",
       "    </tr>\n",
       "  </thead>\n",
       "  <tbody>\n",
       "    <tr>\n",
       "      <th>20130102</th>\n",
       "      <td>32</td>\n",
       "      <td>31</td>\n",
       "      <td>32</td>\n",
       "      <td>32</td>\n",
       "      <td>1595</td>\n",
       "    </tr>\n",
       "    <tr>\n",
       "      <th>20130103</th>\n",
       "      <td>32</td>\n",
       "      <td>32</td>\n",
       "      <td>32</td>\n",
       "      <td>32</td>\n",
       "      <td>1552</td>\n",
       "    </tr>\n",
       "    <tr>\n",
       "      <th>20130104</th>\n",
       "      <td>32</td>\n",
       "      <td>32</td>\n",
       "      <td>32</td>\n",
       "      <td>32</td>\n",
       "      <td>1324</td>\n",
       "    </tr>\n",
       "    <tr>\n",
       "      <th>20130107</th>\n",
       "      <td>32</td>\n",
       "      <td>32</td>\n",
       "      <td>32</td>\n",
       "      <td>32</td>\n",
       "      <td>676</td>\n",
       "    </tr>\n",
       "    <tr>\n",
       "      <th>20130108</th>\n",
       "      <td>32</td>\n",
       "      <td>31</td>\n",
       "      <td>32</td>\n",
       "      <td>31</td>\n",
       "      <td>1006</td>\n",
       "    </tr>\n",
       "  </tbody>\n",
       "</table>\n",
       "</div>"
      ],
      "text/plain": [
       "          open  low  high  close  volume\n",
       "date                                    \n",
       "20130102    32   31    32     32    1595\n",
       "20130103    32   32    32     32    1552\n",
       "20130104    32   32    32     32    1324\n",
       "20130107    32   32    32     32     676\n",
       "20130108    32   31    32     31    1006"
      ]
     },
     "execution_count": 2,
     "metadata": {},
     "output_type": "execute_result"
    }
   ],
   "source": [
    "import pandas as pd\n",
    "df= pd.read_csv(\"INT_bird.csv\",engine=\"python\" )\n",
    "df.columns=['code','name','date','open','low','high','close','volume']\n",
    "df.dropna(how='any',inplace=True)\n",
    "df.drop(['code','name'],axis=1,inplace=True)\n",
    "df = df.set_index(['date'])\n",
    "df.head()"
   ]
  },
  {
   "cell_type": "markdown",
   "metadata": {},
   "source": [
    "## 資料正規化"
   ]
  },
  {
   "cell_type": "code",
   "execution_count": 3,
   "metadata": {},
   "outputs": [
    {
     "name": "stderr",
     "output_type": "stream",
     "text": [
      "C:\\Users\\user\\Anaconda3\\lib\\site-packages\\sklearn\\utils\\validation.py:475: DataConversionWarning: Data with input dtype int64 was converted to float64 by MinMaxScaler.\n",
      "  warnings.warn(msg, DataConversionWarning)\n"
     ]
    }
   ],
   "source": [
    "\n",
    "from sklearn import preprocessing\n",
    "def normalize(df):\n",
    "    newdf= df.copy()\n",
    "    min_max_scaler = preprocessing.MinMaxScaler()\n",
    "    \n",
    "    newdf['open'] = min_max_scaler.fit_transform(df.open.values.reshape(-1,1))\n",
    "    newdf['low'] = min_max_scaler.fit_transform(df.low.values.reshape(-1,1))\n",
    "    newdf['high'] = min_max_scaler.fit_transform(df.high.values.reshape(-1,1))\n",
    "    newdf['volume'] = min_max_scaler.fit_transform(df.volume.values.reshape(-1,1))\n",
    "    newdf['close'] = min_max_scaler.fit_transform(df.close.values.reshape(-1,1))\n",
    "    \n",
    "    return newdf\n",
    "df_norm= normalize(df)"
   ]
  },
  {
   "cell_type": "code",
   "execution_count": 4,
   "metadata": {},
   "outputs": [
    {
     "data": {
      "text/html": [
       "<div>\n",
       "<style>\n",
       "    .dataframe thead tr:only-child th {\n",
       "        text-align: right;\n",
       "    }\n",
       "\n",
       "    .dataframe thead th {\n",
       "        text-align: left;\n",
       "    }\n",
       "\n",
       "    .dataframe tbody tr th {\n",
       "        vertical-align: top;\n",
       "    }\n",
       "</style>\n",
       "<table border=\"1\" class=\"dataframe\">\n",
       "  <thead>\n",
       "    <tr style=\"text-align: right;\">\n",
       "      <th></th>\n",
       "      <th>open</th>\n",
       "      <th>low</th>\n",
       "      <th>high</th>\n",
       "      <th>close</th>\n",
       "      <th>volume</th>\n",
       "    </tr>\n",
       "    <tr>\n",
       "      <th>date</th>\n",
       "      <th></th>\n",
       "      <th></th>\n",
       "      <th></th>\n",
       "      <th></th>\n",
       "      <th></th>\n",
       "    </tr>\n",
       "  </thead>\n",
       "  <tbody>\n",
       "    <tr>\n",
       "      <th>20130102</th>\n",
       "      <td>0.042553</td>\n",
       "      <td>0.021739</td>\n",
       "      <td>0.042553</td>\n",
       "      <td>0.042553</td>\n",
       "      <td>0.073630</td>\n",
       "    </tr>\n",
       "    <tr>\n",
       "      <th>20130103</th>\n",
       "      <td>0.042553</td>\n",
       "      <td>0.043478</td>\n",
       "      <td>0.042553</td>\n",
       "      <td>0.042553</td>\n",
       "      <td>0.071406</td>\n",
       "    </tr>\n",
       "    <tr>\n",
       "      <th>20130104</th>\n",
       "      <td>0.042553</td>\n",
       "      <td>0.043478</td>\n",
       "      <td>0.042553</td>\n",
       "      <td>0.042553</td>\n",
       "      <td>0.059617</td>\n",
       "    </tr>\n",
       "    <tr>\n",
       "      <th>20130107</th>\n",
       "      <td>0.042553</td>\n",
       "      <td>0.043478</td>\n",
       "      <td>0.042553</td>\n",
       "      <td>0.042553</td>\n",
       "      <td>0.026112</td>\n",
       "    </tr>\n",
       "    <tr>\n",
       "      <th>20130108</th>\n",
       "      <td>0.042553</td>\n",
       "      <td>0.021739</td>\n",
       "      <td>0.042553</td>\n",
       "      <td>0.021277</td>\n",
       "      <td>0.043175</td>\n",
       "    </tr>\n",
       "  </tbody>\n",
       "</table>\n",
       "</div>"
      ],
      "text/plain": [
       "              open       low      high     close    volume\n",
       "date                                                      \n",
       "20130102  0.042553  0.021739  0.042553  0.042553  0.073630\n",
       "20130103  0.042553  0.043478  0.042553  0.042553  0.071406\n",
       "20130104  0.042553  0.043478  0.042553  0.042553  0.059617\n",
       "20130107  0.042553  0.043478  0.042553  0.042553  0.026112\n",
       "20130108  0.042553  0.021739  0.042553  0.021277  0.043175"
      ]
     },
     "execution_count": 4,
     "metadata": {},
     "output_type": "execute_result"
    }
   ],
   "source": [
    "df_norm.head()"
   ]
  },
  {
   "cell_type": "markdown",
   "metadata": {},
   "source": [
    "## 資料建構"
   ]
  },
  {
   "cell_type": "code",
   "execution_count": 5,
   "metadata": {
    "collapsed": true
   },
   "outputs": [],
   "source": [
    "import numpy as np\n",
    "def data_helper(df, time_frame):\n",
    "    \n",
    "    # 資料維度: 開盤價、收盤價、最高價、最低價、成交量, 5維\n",
    "    number_features = len(df.columns)\n",
    "    # 將dataframe 轉成 numpy array\n",
    "    datavalue = df.as_matrix()\n",
    "    result = []\n",
    "    # 若想要觀察的 time_frame 為5天, 需要多加一天做為驗證答案\n",
    "    for index in range( len(datavalue) - (time_frame+1) ): # 從 datavalue 的第0個跑到倒數第 time_frame+1 個\n",
    "        result.append(datavalue[index: index + (time_frame+1) ]) # 逐筆取出 time_frame+1 個K棒數值做為一筆 instance\n",
    "    \n",
    "    result = np.array(result)\n",
    "    number_train = round(0.9 * result.shape[0]) # 取 result 的前90% instance做為訓練資料\n",
    "    \n",
    "    x_train = result[:int(number_train), :-1] # 訓練資料中, 只取每一個 time_frame 中除了最後一筆的所有資料做為feature\n",
    "    y_train = result[:int(number_train), -1][:,-1] # 訓練資料中, 取每一個 time_frame 中最後一筆資料的最後一個數值(收盤價)做為答案\n",
    "    \n",
    "    # 測試資料\n",
    "    x_test = result[int(number_train):, :-1]\n",
    "    y_test = result[int(number_train):, -1][:,-1]\n",
    "    \n",
    "    # 將資料組成變好看一點\n",
    "    x_train = np.reshape(x_train, (x_train.shape[0], x_train.shape[1], number_features))\n",
    "    x_test = np.reshape(x_test, (x_test.shape[0], x_test.shape[1], number_features))  \n",
    "    return [x_train, y_train, x_test, y_test]\n",
    "# 以5天為一區間進行股價預測\n",
    "x_train, y_train, x_test, y_test = data_helper(df_norm, 5)"
   ]
  },
  {
   "cell_type": "markdown",
   "metadata": {},
   "source": [
    "## Keras 模型建立"
   ]
  },
  {
   "cell_type": "code",
   "execution_count": 6,
   "metadata": {},
   "outputs": [
    {
     "name": "stderr",
     "output_type": "stream",
     "text": [
      "C:\\Users\\user\\Anaconda3\\lib\\site-packages\\h5py\\__init__.py:34: FutureWarning: Conversion of the second argument of issubdtype from `float` to `np.floating` is deprecated. In future, it will be treated as `np.float64 == np.dtype(float).type`.\n",
      "  from ._conv import register_converters as _register_converters\n",
      "Using TensorFlow backend.\n"
     ]
    }
   ],
   "source": [
    "from keras.models import Sequential\n",
    "from keras.layers.core import Dense, Dropout, Activation\n",
    "from keras.layers.recurrent import LSTM\n",
    "import keras\n",
    "def build_model(input_length, input_dim):\n",
    "    d = 0.3\n",
    "    model = Sequential()\n",
    "    model.add(LSTM(256, input_shape=(input_length, input_dim), return_sequences=True))\n",
    "    model.add(Dropout(d))\n",
    "    model.add(LSTM(256, input_shape=(input_length, input_dim), return_sequences=False))\n",
    "    model.add(Dropout(d))\n",
    "    model.add(Dense(16,kernel_initializer=\"uniform\",activation='relu'))\n",
    "    model.add(Dense(1,kernel_initializer=\"uniform\",activation='linear'))\n",
    "    model.compile(loss='mse',optimizer='adam', metrics=['accuracy'])\n",
    "    return model\n",
    "# 5天、5維\n",
    "model = build_model( 5 , 5 )"
   ]
  },
  {
   "cell_type": "markdown",
   "metadata": {},
   "source": [
    "## LSTM 模型訓練"
   ]
  },
  {
   "cell_type": "code",
   "execution_count": 7,
   "metadata": {},
   "outputs": [
    {
     "name": "stdout",
     "output_type": "stream",
     "text": [
      "Train on 1081 samples, validate on 121 samples\n",
      "Epoch 1/50\n",
      "1081/1081 [==============================] - 2s 2ms/step - loss: 0.0166 - acc: 9.2507e-04 - val_loss: 0.0059 - val_acc: 0.0000e+00\n",
      "Epoch 2/50\n",
      "1081/1081 [==============================] - 1s 1ms/step - loss: 0.0091 - acc: 9.2507e-04 - val_loss: 0.0056 - val_acc: 0.0000e+00\n",
      "Epoch 3/50\n",
      "1081/1081 [==============================] - 1s 1ms/step - loss: 0.0085 - acc: 9.2507e-04 - val_loss: 0.0073 - val_acc: 0.0000e+00\n",
      "Epoch 4/50\n",
      "1081/1081 [==============================] - 1s 1ms/step - loss: 0.0081 - acc: 9.2507e-04 - val_loss: 0.0059 - val_acc: 0.0000e+00\n",
      "Epoch 5/50\n",
      "1081/1081 [==============================] - 2s 1ms/step - loss: 0.0077 - acc: 9.2507e-04 - val_loss: 0.0069 - val_acc: 0.0000e+00\n",
      "Epoch 6/50\n",
      "1081/1081 [==============================] - 1s 1ms/step - loss: 0.0076 - acc: 9.2507e-04 - val_loss: 0.0057 - val_acc: 0.0000e+00\n",
      "Epoch 7/50\n",
      "1081/1081 [==============================] - 1s 1ms/step - loss: 0.0072 - acc: 9.2507e-04 - val_loss: 0.0053 - val_acc: 0.0000e+00\n",
      "Epoch 8/50\n",
      "1081/1081 [==============================] - 1s 1ms/step - loss: 0.0070 - acc: 9.2507e-04 - val_loss: 0.0050 - val_acc: 0.0000e+00\n",
      "Epoch 9/50\n",
      "1081/1081 [==============================] - 1s 1ms/step - loss: 0.0068 - acc: 9.2507e-04 - val_loss: 0.0050 - val_acc: 0.0000e+00\n",
      "Epoch 10/50\n",
      "1081/1081 [==============================] - 1s 1ms/step - loss: 0.0065 - acc: 9.2507e-04 - val_loss: 0.0050 - val_acc: 0.0000e+00\n",
      "Epoch 11/50\n",
      "1081/1081 [==============================] - 1s 1ms/step - loss: 0.0064 - acc: 9.2507e-04 - val_loss: 0.0053 - val_acc: 0.0000e+00\n",
      "Epoch 12/50\n",
      "1081/1081 [==============================] - 1s 1ms/step - loss: 0.0064 - acc: 9.2507e-04 - val_loss: 0.0052 - val_acc: 0.0000e+00\n",
      "Epoch 13/50\n",
      "1081/1081 [==============================] - 1s 1ms/step - loss: 0.0064 - acc: 9.2507e-04 - val_loss: 0.0062 - val_acc: 0.0000e+00\n",
      "Epoch 14/50\n",
      "1081/1081 [==============================] - 1s 1ms/step - loss: 0.0065 - acc: 9.2507e-04 - val_loss: 0.0060 - val_acc: 0.0000e+00\n",
      "Epoch 15/50\n",
      "1081/1081 [==============================] - 2s 1ms/step - loss: 0.0066 - acc: 9.2507e-04 - val_loss: 0.0049 - val_acc: 0.0000e+00\n",
      "Epoch 16/50\n",
      "1081/1081 [==============================] - 2s 1ms/step - loss: 0.0062 - acc: 9.2507e-04 - val_loss: 0.0048 - val_acc: 0.0000e+00\n",
      "Epoch 17/50\n",
      "1081/1081 [==============================] - 1s 1ms/step - loss: 0.0063 - acc: 9.2507e-04 - val_loss: 0.0051 - val_acc: 0.0000e+00\n",
      "Epoch 18/50\n",
      "1081/1081 [==============================] - 1s 1ms/step - loss: 0.0062 - acc: 9.2507e-04 - val_loss: 0.0056 - val_acc: 0.0000e+00\n",
      "Epoch 19/50\n",
      "1081/1081 [==============================] - 1s 1ms/step - loss: 0.0061 - acc: 9.2507e-04 - val_loss: 0.0049 - val_acc: 0.0000e+00\n",
      "Epoch 20/50\n",
      "1081/1081 [==============================] - 1s 1ms/step - loss: 0.0060 - acc: 9.2507e-04 - val_loss: 0.0049 - val_acc: 0.0000e+00\n",
      "Epoch 21/50\n",
      "1081/1081 [==============================] - 1s 1ms/step - loss: 0.0061 - acc: 9.2507e-04 - val_loss: 0.0052 - val_acc: 0.0000e+00\n",
      "Epoch 22/50\n",
      "1081/1081 [==============================] - 1s 1ms/step - loss: 0.0060 - acc: 9.2507e-04 - val_loss: 0.0050 - val_acc: 0.0000e+00\n",
      "Epoch 23/50\n",
      "1081/1081 [==============================] - 1s 1ms/step - loss: 0.0059 - acc: 9.2507e-04 - val_loss: 0.0052 - val_acc: 0.0000e+00\n",
      "Epoch 24/50\n",
      "1081/1081 [==============================] - 1s 1ms/step - loss: 0.0059 - acc: 9.2507e-04 - val_loss: 0.0048 - val_acc: 0.0000e+00\n",
      "Epoch 25/50\n",
      "1081/1081 [==============================] - 2s 2ms/step - loss: 0.0058 - acc: 9.2507e-04 - val_loss: 0.0048 - val_acc: 0.0000e+00\n",
      "Epoch 26/50\n",
      "1081/1081 [==============================] - 1s 1ms/step - loss: 0.0059 - acc: 9.2507e-04 - val_loss: 0.0047 - val_acc: 0.0000e+00\n",
      "Epoch 27/50\n",
      "1081/1081 [==============================] - 1s 1ms/step - loss: 0.0057 - acc: 9.2507e-04 - val_loss: 0.0047 - val_acc: 0.0000e+00\n",
      "Epoch 28/50\n",
      "1081/1081 [==============================] - 1s 1ms/step - loss: 0.0056 - acc: 9.2507e-04 - val_loss: 0.0048 - val_acc: 0.0000e+00\n",
      "Epoch 29/50\n",
      "1081/1081 [==============================] - 1s 1ms/step - loss: 0.0057 - acc: 9.2507e-04 - val_loss: 0.0055 - val_acc: 0.0000e+00\n",
      "Epoch 30/50\n",
      "1081/1081 [==============================] - 1s 1ms/step - loss: 0.0057 - acc: 9.2507e-04 - val_loss: 0.0052 - val_acc: 0.0000e+00\n",
      "Epoch 31/50\n",
      "1081/1081 [==============================] - 1s 1ms/step - loss: 0.0054 - acc: 9.2507e-04 - val_loss: 0.0048 - val_acc: 0.0000e+00\n",
      "Epoch 32/50\n",
      "1081/1081 [==============================] - 1s 1ms/step - loss: 0.0053 - acc: 9.2507e-04 - val_loss: 0.0048 - val_acc: 0.0000e+00\n",
      "Epoch 33/50\n",
      "1081/1081 [==============================] - 1s 1ms/step - loss: 0.0053 - acc: 9.2507e-04 - val_loss: 0.0049 - val_acc: 0.0000e+00\n",
      "Epoch 34/50\n",
      "1081/1081 [==============================] - 1s 1ms/step - loss: 0.0053 - acc: 9.2507e-04 - val_loss: 0.0049 - val_acc: 0.0000e+00\n",
      "Epoch 35/50\n",
      "1081/1081 [==============================] - 1s 1ms/step - loss: 0.0052 - acc: 9.2507e-04 - val_loss: 0.0048 - val_acc: 0.0000e+00\n",
      "Epoch 36/50\n",
      "1081/1081 [==============================] - 1s 1ms/step - loss: 0.0050 - acc: 9.2507e-04 - val_loss: 0.0050 - val_acc: 0.0000e+00\n",
      "Epoch 37/50\n",
      "1081/1081 [==============================] - 1s 1ms/step - loss: 0.0050 - acc: 9.2507e-04 - val_loss: 0.0053 - val_acc: 0.0000e+00\n",
      "Epoch 38/50\n",
      "1081/1081 [==============================] - 1s 1ms/step - loss: 0.0053 - acc: 9.2507e-04 - val_loss: 0.0053 - val_acc: 0.0000e+00\n",
      "Epoch 39/50\n",
      "1081/1081 [==============================] - 1s 1ms/step - loss: 0.0053 - acc: 9.2507e-04 - val_loss: 0.0054 - val_acc: 0.0000e+00\n",
      "Epoch 40/50\n",
      "1081/1081 [==============================] - 1s 1ms/step - loss: 0.0053 - acc: 9.2507e-04 - val_loss: 0.0049 - val_acc: 0.0000e+00\n",
      "Epoch 41/50\n",
      "1081/1081 [==============================] - 1s 1ms/step - loss: 0.0050 - acc: 9.2507e-04 - val_loss: 0.0050 - val_acc: 0.0000e+00\n",
      "Epoch 42/50\n",
      "1081/1081 [==============================] - 1s 1ms/step - loss: 0.0051 - acc: 9.2507e-04 - val_loss: 0.0049 - val_acc: 0.0000e+00\n",
      "Epoch 43/50\n",
      "1081/1081 [==============================] - 1s 1ms/step - loss: 0.0050 - acc: 9.2507e-04 - val_loss: 0.0050 - val_acc: 0.0000e+00\n",
      "Epoch 44/50\n",
      "1081/1081 [==============================] - 1s 1ms/step - loss: 0.0051 - acc: 9.2507e-04 - val_loss: 0.0050 - val_acc: 0.0000e+00\n",
      "Epoch 45/50\n",
      "1081/1081 [==============================] - 1s 1ms/step - loss: 0.0050 - acc: 9.2507e-04 - val_loss: 0.0052 - val_acc: 0.0000e+00\n",
      "Epoch 46/50\n",
      "1081/1081 [==============================] - 1s 1ms/step - loss: 0.0051 - acc: 9.2507e-04 - val_loss: 0.0054 - val_acc: 0.0000e+00\n",
      "Epoch 47/50\n",
      "1081/1081 [==============================] - 1s 1ms/step - loss: 0.0053 - acc: 9.2507e-04 - val_loss: 0.0049 - val_acc: 0.0000e+00\n",
      "Epoch 48/50\n",
      "1081/1081 [==============================] - 2s 1ms/step - loss: 0.0050 - acc: 9.2507e-04 - val_loss: 0.0049 - val_acc: 0.0000e+00\n",
      "Epoch 49/50\n",
      "1081/1081 [==============================] - 1s 1ms/step - loss: 0.0050 - acc: 9.2507e-04 - val_loss: 0.0050 - val_acc: 0.0000e+00\n",
      "Epoch 50/50\n",
      "1081/1081 [==============================] - 1s 1ms/step - loss: 0.0049 - acc: 9.2507e-04 - val_loss: 0.0051 - val_acc: 0.0000e+00\n"
     ]
    },
    {
     "data": {
      "text/plain": [
       "<keras.callbacks.History at 0x26ff4946630>"
      ]
     },
     "execution_count": 7,
     "metadata": {},
     "output_type": "execute_result"
    }
   ],
   "source": [
    "# 一個batch有128個instance，總共跑50個迭代\n",
    "\n",
    "model.fit( x_train, y_train, batch_size=128, epochs=50, validation_split=0.1, verbose=1)"
   ]
  },
  {
   "cell_type": "code",
   "execution_count": 8,
   "metadata": {},
   "outputs": [
    {
     "name": "stderr",
     "output_type": "stream",
     "text": [
      "C:\\Users\\user\\Anaconda3\\lib\\site-packages\\sklearn\\utils\\validation.py:475: DataConversionWarning: Data with input dtype int64 was converted to float64 by MinMaxScaler.\n",
      "  warnings.warn(msg, DataConversionWarning)\n"
     ]
    }
   ],
   "source": [
    "#LSTM 模型預測股價及還原數值\n",
    "\n",
    "def denormalize(df, norm_value):\n",
    "    original_value = df['close'].values.reshape(-1,1)\n",
    "    norm_value = norm_value.reshape(-1,1)\n",
    "    \n",
    "    min_max_scaler = preprocessing.MinMaxScaler()\n",
    "    min_max_scaler.fit_transform(original_value)\n",
    "    denorm_value = min_max_scaler.inverse_transform(norm_value)\n",
    "    \n",
    "    return denorm_value\n",
    "# 用訓練好的 LSTM 模型對測試資料集進行預測\n",
    "pred = model.predict(x_test)\n",
    "# 將預測值與正確答案還原回原來的區間值\n",
    "denorm_pred = denormalize(df, pred)\n",
    "denorm_ytest = denormalize(df, y_test)"
   ]
  },
  {
   "cell_type": "markdown",
   "metadata": {},
   "source": [
    "## LSTM 預測股價結果"
   ]
  },
  {
   "cell_type": "code",
   "execution_count": 9,
   "metadata": {
    "scrolled": true
   },
   "outputs": [
    {
     "data": {
      "image/png": "[encoded data removed]",
      "text/plain": [
       "<matplotlib.figure.Figure at 0x26fee8dfa58>"
      ]
     },
     "metadata": {},
     "output_type": "display_data"
    }
   ],
   "source": [
    "import matplotlib.pyplot as plt\n",
    "%matplotlib inline  \n",
    "plt.plot(denorm_pred,color='red', label='Prediction')\n",
    "plt.plot(denorm_ytest,color='blue', label='Answer')\n",
    "plt.legend(loc='best')\n",
    "plt.show()"
   ]
  },
  {
   "cell_type": "markdown",
   "metadata": {},
   "source": [
    "-----------------------------------------------\n",
    "# 總結\n",
    "\n",
    "> ## 從上述我們可以看到，整體而言，RF預測出來的準確度以及圖形的配適度比LSTM準確。因為RF在處理眾多變量需要降維的時候，效果會比較好。但是它的缺點是無法控制模型內部運行，只能在不同的參數和隨機種子來進行嘗試。而LSTM的模型是以時間序列的概念進行預測，因此模型相較於RF會比較複雜，需要調整的參數較多。經過兩種的模型測試後，我們了解到RF和LSTM沒有哪一個是絕對的比較準確，需要考慮到讀者想處理的資料是怎樣的型態以及維度，再從中挑選適合的模型!\n",
    "\n",
    "-----------------------------------------------------------"
   ]
  },
  {
   "cell_type": "markdown",
   "metadata": {
    "collapsed": true
   },
   "source": [
    "\n",
    ">- ## 補充-關於優化器的選擇(Adam)\n",
    "\n",
    ">#### 在LSTM的運算過程中，因為我們的資料量不是很龐大且考慮的參數也較少，如果需要更快的收斂或是訓練更複雜的神經網路，適合選擇stepsize較好的優化器，因此我們採用的優化器是Adam。\n",
    "\n",
    ">#### Adam是從兩個算法延伸而來：AdaGrad和RMSProp，它集合了2個算法的主要優點，並且做了一些修飾，而公式如下：\n",
    "\n",
    ">#### ![Alt text](https://i.imgur.com/6FNRv13.png/to/)\n",
    "> 文獻參考: Adam: A Method for Stochastic Optimization/ Diederik P. Kingma, Jimmy Ba /(Submitted on 22 Dec 2014 (v1), last revised 30 Jan 2017 (this version, v9))\n"
   ]
  },
  {
   "cell_type": "markdown",
   "metadata": {},
   "source": [
    "## 參考連結:\n",
    "> ### 1.   Random Forest\n",
    "    > ### https://medium.com/@yehjames/%E8%B3%87%E6%96%99%E5%88%86%E6%9E%90-%E6%A9%9F%E5%99%A8%E5%AD%B8%E7%BF%92-%E7%AC%AC3-5%E8%AC%9B-%E6%B1%BA%E7%AD%96%E6%A8%B9-decision-tree-%E4%BB%A5%E5%8F%8A%E9%9A%A8%E6%A9%9F%E6%A3%AE%E6%9E%97-random-forest-%E4%BB%8B%E7%B4%B9-7079b0ddfbda\n",
    "    \n",
    "    > ### http://scikit-learn.org/stable/modules/generated/sklearn.ensemble.RandomForestClassifier.html\n",
    "\n",
    "    > ### https://github.com/ChenHandsomeboy/Team_Project/blob/master/%E6%9C%9F%E6%9C%ABproject/%E6%9C%9F%E6%9C%AB%E5%A0%B1%E5%91%8A.ipynb\n",
    "\n",
    "> ### 2.   LSTM ( Long Short Term Memory)\n",
    "    > ### https://read01.com/zh-tw/70nBKn.html#.WzJP-9IzZPZ\n",
    "    \n",
    "> ### 3.   優化器的選擇-Adam\n",
    "    > ### http://www.redcedartech.com/pdfs/Select_Optimization_Method.pdf\n",
    "    > ### https://arxiv.org/abs/1412.6980\n",
    "    > ### https://blog.csdn.net/aliceyangxi1987/article/details/73210204\n",
    "    > ### https://segmentfault.com/a/1190000012668819\n",
    ">\n",
    "> ### 比較兩種模型預測股價效果比較好，並探討背後預測能力較高的原因。\n",
    "\n",
    "------------------------------------------------------------------------"
   ]
  }
 ],
 "metadata": {
  "kernelspec": {
   "display_name": "Python 3",
   "language": "python",
   "name": "python3"
  },
  "language_info": {
   "codemirror_mode": {
    "name": "ipython",
    "version": 3
   },
   "file_extension": ".py",
   "mimetype": "text/x-python",
   "name": "python",
   "nbconvert_exporter": "python",
   "pygments_lexer": "ipython3",
   "version": "3.6.3"
  }
 },
 "nbformat": 4,
 "nbformat_minor": 2
}
